{
 "cells": [
  {
   "cell_type": "markdown",
   "id": "20a33258",
   "metadata": {},
   "source": [
    "# Joining and Appending Dataframes"
   ]
  },
  {
   "cell_type": "code",
   "execution_count": 1,
   "id": "d189263d",
   "metadata": {},
   "outputs": [
    {
     "data": {
      "text/html": [
       "\n",
       "            <div>\n",
       "                <p><b>SparkSession - in-memory</b></p>\n",
       "                \n",
       "        <div>\n",
       "            <p><b>SparkContext</b></p>\n",
       "\n",
       "            <p><a href=\"http://LAPTOP-9FG2KGF9:4040\">Spark UI</a></p>\n",
       "\n",
       "            <dl>\n",
       "              <dt>Version</dt>\n",
       "                <dd><code>v3.2.0</code></dd>\n",
       "              <dt>Master</dt>\n",
       "                <dd><code>local[*]</code></dd>\n",
       "              <dt>AppName</dt>\n",
       "                <dd><code>joins</code></dd>\n",
       "            </dl>\n",
       "        </div>\n",
       "        \n",
       "            </div>\n",
       "        "
      ],
      "text/plain": [
       "<pyspark.sql.session.SparkSession at 0x15c3c239280>"
      ]
     },
     "execution_count": 1,
     "metadata": {},
     "output_type": "execute_result"
    }
   ],
   "source": [
    "import pyspark\n",
    "from pyspark.sql import SparkSession\n",
    "spark = SparkSession.builder.appName('joins').getOrCreate()\n",
    "spark"
   ]
  },
  {
   "cell_type": "code",
   "execution_count": 2,
   "id": "bfb47268",
   "metadata": {},
   "outputs": [
    {
     "name": "stdout",
     "output_type": "stream",
     "text": [
      "Plant eaters (herbivores)\n",
      "+-----------+---+-----------+\n",
      "|       name| id|eats_plants|\n",
      "+-----------+---+-----------+\n",
      "|      koala|  1|        yes|\n",
      "|caterpillar|  2|        yes|\n",
      "|       deer|  3|        yes|\n",
      "|      human|  4|        yes|\n",
      "+-----------+---+-----------+\n",
      "\n",
      "None\n",
      "Meat eaters (carnivores)\n",
      "+-----+---+---------+\n",
      "| name| id|eats_meat|\n",
      "+-----+---+---------+\n",
      "|shark|  5|      yes|\n",
      "| lion|  6|      yes|\n",
      "|tiger|  7|      yes|\n",
      "|human|  4|      yes|\n",
      "+-----+---+---------+\n",
      "\n",
      "None\n"
     ]
    }
   ],
   "source": [
    "valuesP = [('koala', 1, 'yes'), ('caterpillar', 2, 'yes'), ('deer', 3, 'yes'), ('human', 4, 'yes')]\n",
    "eats_plants = spark.createDataFrame(valuesP, ['name', 'id', 'eats_plants'])\n",
    "\n",
    "valuesM = [('shark', 5, 'yes'), ('lion', 6, 'yes'), ('tiger', 7, 'yes'), ('human', 4, 'yes')]\n",
    "eats_meat = spark.createDataFrame(valuesM, ['name', 'id', 'eats_meat'])\n",
    "\n",
    "print('Plant eaters (herbivores)')\n",
    "print(eats_plants.show())\n",
    "print('Meat eaters (carnivores)')\n",
    "print(eats_meat.show())\n"
   ]
  },
  {
   "cell_type": "code",
   "execution_count": 3,
   "id": "4f1f5d18",
   "metadata": {},
   "outputs": [],
   "source": [
    "new_df = eats_plants"
   ]
  },
  {
   "cell_type": "code",
   "execution_count": 4,
   "id": "e3330444",
   "metadata": {},
   "outputs": [],
   "source": [
    "df_append = eats_plants.union(new_df)"
   ]
  },
  {
   "cell_type": "code",
   "execution_count": 5,
   "id": "e39f9e7c",
   "metadata": {},
   "outputs": [
    {
     "data": {
      "text/plain": [
       "4"
      ]
     },
     "execution_count": 5,
     "metadata": {},
     "output_type": "execute_result"
    }
   ],
   "source": [
    "eats_plants.count()"
   ]
  },
  {
   "cell_type": "code",
   "execution_count": 6,
   "id": "3d65c82a",
   "metadata": {},
   "outputs": [
    {
     "data": {
      "text/plain": [
       "8"
      ]
     },
     "execution_count": 6,
     "metadata": {},
     "output_type": "execute_result"
    }
   ],
   "source": [
    "df_append.count()"
   ]
  },
  {
   "cell_type": "code",
   "execution_count": 7,
   "id": "cf765305",
   "metadata": {},
   "outputs": [
    {
     "name": "stdout",
     "output_type": "stream",
     "text": [
      "+-----+---+-----------+---------+\n",
      "| name| id|eats_plants|eats_meat|\n",
      "+-----+---+-----------+---------+\n",
      "|human|  4|        yes|      yes|\n",
      "+-----+---+-----------+---------+\n",
      "\n"
     ]
    }
   ],
   "source": [
    "# Inner Joins\n",
    "inner_join = eats_plants.join(eats_meat, ['name', 'id'], 'inner')\n",
    "inner_join.show()"
   ]
  },
  {
   "cell_type": "code",
   "execution_count": 8,
   "id": "00f82db8",
   "metadata": {},
   "outputs": [
    {
     "name": "stdout",
     "output_type": "stream",
     "text": [
      "+-----------+---+-----------+---------+\n",
      "|       name| id|eats_plants|eats_meat|\n",
      "+-----------+---+-----------+---------+\n",
      "|caterpillar|  2|        yes|     null|\n",
      "|       deer|  3|        yes|     null|\n",
      "|      human|  4|        yes|      yes|\n",
      "|      koala|  1|        yes|     null|\n",
      "+-----------+---+-----------+---------+\n",
      "\n"
     ]
    }
   ],
   "source": [
    "# Left Joins\n",
    "left_join = eats_plants.join(eats_meat, ['name', 'id'], 'left')\n",
    "left_join.show()"
   ]
  },
  {
   "cell_type": "code",
   "execution_count": 9,
   "id": "81de3523",
   "metadata": {},
   "outputs": [
    {
     "name": "stdout",
     "output_type": "stream",
     "text": [
      "+-----+---+-----------+---------+\n",
      "| name| id|eats_plants|eats_meat|\n",
      "+-----+---+-----------+---------+\n",
      "|human|  4|        yes|      yes|\n",
      "| lion|  6|       null|      yes|\n",
      "|shark|  5|       null|      yes|\n",
      "|tiger|  7|       null|      yes|\n",
      "+-----+---+-----------+---------+\n",
      "\n"
     ]
    }
   ],
   "source": [
    "# Left Joins\n",
    "right_join = eats_plants.join(eats_meat, ['name', 'id'], 'right')\n",
    "right_join.show()"
   ]
  },
  {
   "cell_type": "code",
   "execution_count": 10,
   "id": "415ba81f",
   "metadata": {},
   "outputs": [
    {
     "name": "stdout",
     "output_type": "stream",
     "text": [
      "+-----------+---+-----------+---------+\n",
      "|       name| id|eats_plants|eats_meat|\n",
      "+-----------+---+-----------+---------+\n",
      "|caterpillar|  2|        yes|     null|\n",
      "|       deer|  3|        yes|     null|\n",
      "|      koala|  1|        yes|     null|\n",
      "+-----------+---+-----------+---------+\n",
      "\n"
     ]
    }
   ],
   "source": [
    "# Left Joins\n",
    "cond_join = eats_plants.join(eats_meat, ['name', 'id'], 'left').filter(eats_meat.name.isNull())\n",
    "cond_join.show()"
   ]
  },
  {
   "cell_type": "code",
   "execution_count": 11,
   "id": "39cd28ad",
   "metadata": {},
   "outputs": [
    {
     "name": "stdout",
     "output_type": "stream",
     "text": [
      "+-----------+---+-----------+---------+\n",
      "|       name| id|eats_plants|eats_meat|\n",
      "+-----------+---+-----------+---------+\n",
      "|caterpillar|  2|        yes|     null|\n",
      "|       deer|  3|        yes|     null|\n",
      "|      human|  4|        yes|      yes|\n",
      "|      koala|  1|        yes|     null|\n",
      "|       lion|  6|       null|      yes|\n",
      "|      shark|  5|       null|      yes|\n",
      "|      tiger|  7|       null|      yes|\n",
      "+-----------+---+-----------+---------+\n",
      "\n"
     ]
    }
   ],
   "source": [
    "# Full outer joins\n",
    "full_join = eats_plants.join(eats_meat, ['name', 'id'], 'full')\n",
    "full_join.show()"
   ]
  },
  {
   "cell_type": "code",
   "execution_count": 12,
   "id": "bd2e42ee",
   "metadata": {},
   "outputs": [],
   "source": [
    "import os\n",
    "\n",
    "path = 'Datasets/uw-madison-courses/'"
   ]
  },
  {
   "cell_type": "code",
   "execution_count": 13,
   "id": "51ef1cb2",
   "metadata": {},
   "outputs": [],
   "source": [
    "df_list = []\n",
    "for filename in os.listdir(path):\n",
    "    if filename.endswith('.csv'):\n",
    "        filename_list = filename.split('.')\n",
    "        df_name = filename_list[0]\n",
    "        df = spark.read.csv(path + filename, inferSchema = True, header = True)\n",
    "        df.name = df_name\n",
    "        df_list.append(df_name)\n",
    "        exec(df_name + ' = df')"
   ]
  },
  {
   "cell_type": "code",
   "execution_count": 14,
   "id": "6d9f6add",
   "metadata": {},
   "outputs": [
    {
     "data": {
      "text/plain": [
       "['courses',\n",
       " 'course_offerings',\n",
       " 'grade_distributions',\n",
       " 'instructors',\n",
       " 'rooms',\n",
       " 'schedules',\n",
       " 'sections',\n",
       " 'subjects',\n",
       " 'subject_memberships',\n",
       " 'teachings']"
      ]
     },
     "execution_count": 14,
     "metadata": {},
     "output_type": "execute_result"
    }
   ],
   "source": [
    "df_list "
   ]
  },
  {
   "cell_type": "code",
   "execution_count": 15,
   "id": "d6dc4b0f",
   "metadata": {},
   "outputs": [
    {
     "name": "stdout",
     "output_type": "stream",
     "text": [
      "+----+--------------------+------------+\n",
      "|code|                name|abbreviation|\n",
      "+----+--------------------+------------+\n",
      "| 908|        Soil Science|    SOIL SCI|\n",
      "| 350|             ENGLISH|     ENGLISH|\n",
      "| 351|English as a Seco...|         ESL|\n",
      "| 230|Human Development...|        HDFS|\n",
      "| 352|             English|        ENGL|\n",
      "| 231|    General Business|     GEN BUS|\n",
      "| 232|Accounting and In...|    ACCT I S|\n",
      "| 112|Biological System...|         BSE|\n",
      "| 233|Finance, Investme...|     FINANCE|\n",
      "| 476|        Horticulture|        HORT|\n",
      "| 355|          Entomology|       ENTOM|\n",
      "| 234| Information Systems|    INFO SYS|\n",
      "| 235|International Bus...|    INTL BUS|\n",
      "| 236|Management and Hu...|       M H R|\n",
      "| 237|           Marketing|    MARKETNG|\n",
      "| 359|      Design Studies|          DS|\n",
      "| 238|Operations and Te...|         OTM|\n",
      "| 239|Real Estate and U...|    REAL EST|\n",
      "| 912|Spanish (Spanish ...|     SPANISH|\n",
      "| 480|      Human Oncology|     H ONCOL|\n",
      "+----+--------------------+------------+\n",
      "only showing top 20 rows\n",
      "\n"
     ]
    }
   ],
   "source": [
    "subjects.show()"
   ]
  },
  {
   "cell_type": "code",
   "execution_count": 18,
   "id": "eb30956d",
   "metadata": {},
   "outputs": [
    {
     "name": "stdout",
     "output_type": "stream",
     "text": [
      "+------+----------------+\n",
      "|id    |name            |\n",
      "+------+----------------+\n",
      "|761703|JOHN ARCHAMBAULT|\n",
      "+------+----------------+\n",
      "only showing top 1 row\n",
      "\n"
     ]
    }
   ],
   "source": [
    "instructors.show(1, False)"
   ]
  },
  {
   "cell_type": "code",
   "execution_count": 16,
   "id": "cdfb1392",
   "metadata": {},
   "outputs": [
    {
     "name": "stdout",
     "output_type": "stream",
     "text": [
      "+------------------------------------+------------------------------------+---------+--------------------------+\n",
      "|uuid                                |course_uuid                         |term_code|name                      |\n",
      "+------------------------------------+------------------------------------+---------+--------------------------+\n",
      "|344b3ebe-da7e-314c-83ed-9425269695fd|a3e3e1c3-543d-3bb5-ae65-5f2aec4ad1de|1092     |Cooperative Education Prog|\n",
      "+------------------------------------+------------------------------------+---------+--------------------------+\n",
      "only showing top 1 row\n",
      "\n"
     ]
    }
   ],
   "source": [
    "course_offerings.show(1, False)"
   ]
  },
  {
   "cell_type": "code",
   "execution_count": 17,
   "id": "66e7b8dc",
   "metadata": {},
   "outputs": [
    {
     "name": "stdout",
     "output_type": "stream",
     "text": [
      "+--------------------+--------------------+---------+--------------------+\n",
      "|                uuid|         course_uuid|term_code|                name|\n",
      "+--------------------+--------------------+---------+--------------------+\n",
      "|344b3ebe-da7e-314...|a3e3e1c3-543d-3bb...|     1092|Cooperative Educa...|\n",
      "|f718e6cd-33f0-3c1...|a3e3e1c3-543d-3bb...|     1082|Cooperative Educa...|\n",
      "|ea3b717c-d66b-30d...|a3e3e1c3-543d-3bb...|     1172|Cooperative Educa...|\n",
      "+--------------------+--------------------+---------+--------------------+\n",
      "only showing top 3 rows\n",
      "\n"
     ]
    }
   ],
   "source": [
    "course_offerings.show(3)"
   ]
  },
  {
   "cell_type": "markdown",
   "id": "001c9a5a",
   "metadata": {},
   "source": [
    "* course_offerings(CO): uuid, course_uuid, term_code, name\n",
    "* instructors (I): id, name\n",
    "* sections (S): uuid, course_offering_uuid, room_uuid, schedule_uuid\n",
    "* teachings (T): instructor_id, section_uuid\n",
    "\n",
    "I.id --> T.instructor_id\n",
    "            \\/\n",
    "         T.section_uuid --> S.uuid\n",
    "                              \\/\n",
    "                             S.course_offering_uuid --> CO.uuid"
   ]
  },
  {
   "cell_type": "code",
   "execution_count": 21,
   "id": "27246f86",
   "metadata": {},
   "outputs": [
    {
     "name": "stdout",
     "output_type": "stream",
     "text": [
      "+-------------+--------------------+-------+----------------+\n",
      "|instructor_id|        section_uuid|     id|            name|\n",
      "+-------------+--------------------+-------+----------------+\n",
      "|       761703|45adf63c-48c9-365...| 761703|JOHN ARCHAMBAULT|\n",
      "|       761703|c6280e23-5e43-385...| 761703|JOHN ARCHAMBAULT|\n",
      "|       761703|9395dc21-15d1-3fa...| 761703|JOHN ARCHAMBAULT|\n",
      "|      3677061|b99e440b-39db-350...|3677061|  STEPHANIE KANN|\n",
      "|       761703|ca1c841f-41d5-329...| 761703|JOHN ARCHAMBAULT|\n",
      "|      3677061|da41b0aa-2b81-378...|3677061|  STEPHANIE KANN|\n",
      "|       761703|51c4dc00-1fc7-3c7...| 761703|JOHN ARCHAMBAULT|\n",
      "|       761703|53f95c0f-4ea9-374...| 761703|JOHN ARCHAMBAULT|\n",
      "|       761703|574d9b35-9c76-338...| 761703|JOHN ARCHAMBAULT|\n",
      "|       761703|8fc362a6-d94e-3ad...| 761703|JOHN ARCHAMBAULT|\n",
      "|       761703|d50e7478-e12f-363...| 761703|JOHN ARCHAMBAULT|\n",
      "|       761703|b21564d2-2bc4-3b8...| 761703|JOHN ARCHAMBAULT|\n",
      "|       788586|8853d23e-64b1-3cf...| 788586|      KATHY PREM|\n",
      "|       788586|94339199-eaf3-393...| 788586|      KATHY PREM|\n",
      "|       761703|0d72958a-291b-33d...| 761703|JOHN ARCHAMBAULT|\n",
      "|       761703|dfb55b25-ac7a-366...| 761703|JOHN ARCHAMBAULT|\n",
      "|       761703|27be2077-fd69-3a2...| 761703|JOHN ARCHAMBAULT|\n",
      "|       761703|56ef2b0f-0776-309...| 761703|JOHN ARCHAMBAULT|\n",
      "|      3677061|ad67e659-fbf4-32a...|3677061|  STEPHANIE KANN|\n",
      "|      3677061|e80fe1ab-6b0b-32d...|3677061|  STEPHANIE KANN|\n",
      "+-------------+--------------------+-------+----------------+\n",
      "only showing top 20 rows\n",
      "\n"
     ]
    }
   ],
   "source": [
    "step1 = teachings.join(instructors, teachings.instructor_id == instructors.id, 'left')\n",
    "step1.show()"
   ]
  },
  {
   "cell_type": "code",
   "execution_count": 24,
   "id": "49b6a108",
   "metadata": {},
   "outputs": [
    {
     "data": {
      "text/html": [
       "<div>\n",
       "<style scoped>\n",
       "    .dataframe tbody tr th:only-of-type {\n",
       "        vertical-align: middle;\n",
       "    }\n",
       "\n",
       "    .dataframe tbody tr th {\n",
       "        vertical-align: top;\n",
       "    }\n",
       "\n",
       "    .dataframe thead th {\n",
       "        text-align: right;\n",
       "    }\n",
       "</style>\n",
       "<table border=\"1\" class=\"dataframe\">\n",
       "  <thead>\n",
       "    <tr style=\"text-align: right;\">\n",
       "      <th></th>\n",
       "      <th>name</th>\n",
       "      <th>course_offering_uuid</th>\n",
       "    </tr>\n",
       "  </thead>\n",
       "  <tbody>\n",
       "    <tr>\n",
       "      <th>0</th>\n",
       "      <td>JAMES STEELE</td>\n",
       "      <td>dfac15fb-e446-339e-9403-38b270895b6c</td>\n",
       "    </tr>\n",
       "    <tr>\n",
       "      <th>1</th>\n",
       "      <td>TERESA CLARK</td>\n",
       "      <td>878d4f26-4e7e-3cec-b2e3-28fd56d6489c</td>\n",
       "    </tr>\n",
       "    <tr>\n",
       "      <th>2</th>\n",
       "      <td>JAMES STEELE</td>\n",
       "      <td>3fc6bfe1-7929-3f2e-af13-5185f1cf7383</td>\n",
       "    </tr>\n",
       "    <tr>\n",
       "      <th>3</th>\n",
       "      <td>STEPHANIE KANN</td>\n",
       "      <td>ea3b717c-d66b-30dc-8b37-964d9688295f</td>\n",
       "    </tr>\n",
       "  </tbody>\n",
       "</table>\n",
       "</div>"
      ],
      "text/plain": [
       "             name                  course_offering_uuid\n",
       "0    JAMES STEELE  dfac15fb-e446-339e-9403-38b270895b6c\n",
       "1    TERESA CLARK  878d4f26-4e7e-3cec-b2e3-28fd56d6489c\n",
       "2    JAMES STEELE  3fc6bfe1-7929-3f2e-af13-5185f1cf7383\n",
       "3  STEPHANIE KANN  ea3b717c-d66b-30dc-8b37-964d9688295f"
      ]
     },
     "execution_count": 24,
     "metadata": {},
     "output_type": "execute_result"
    }
   ],
   "source": [
    "step2 = step1.join(sections, step1.section_uuid == sections.uuid, 'left').select(['name', 'course_offering_uuid'])\n",
    "step2.limit(4).toPandas()"
   ]
  },
  {
   "cell_type": "code",
   "execution_count": 25,
   "id": "f9e549b4",
   "metadata": {},
   "outputs": [
    {
     "data": {
      "text/html": [
       "<div>\n",
       "<style scoped>\n",
       "    .dataframe tbody tr th:only-of-type {\n",
       "        vertical-align: middle;\n",
       "    }\n",
       "\n",
       "    .dataframe tbody tr th {\n",
       "        vertical-align: top;\n",
       "    }\n",
       "\n",
       "    .dataframe thead th {\n",
       "        text-align: right;\n",
       "    }\n",
       "</style>\n",
       "<table border=\"1\" class=\"dataframe\">\n",
       "  <thead>\n",
       "    <tr style=\"text-align: right;\">\n",
       "      <th></th>\n",
       "      <th>instructor</th>\n",
       "      <th>course_offering_uuid</th>\n",
       "      <th>uuid</th>\n",
       "      <th>course_uuid</th>\n",
       "      <th>term_code</th>\n",
       "      <th>name</th>\n",
       "    </tr>\n",
       "  </thead>\n",
       "  <tbody>\n",
       "    <tr>\n",
       "      <th>0</th>\n",
       "      <td>MICHAEL CONNORS</td>\n",
       "      <td>128f24cf-b7bf-3a8b-8f04-136c7b6fa556</td>\n",
       "      <td>128f24cf-b7bf-3a8b-8f04-136c7b6fa556</td>\n",
       "      <td>1f7cc0a1-e94f-37bd-86e5-717fe755a19f</td>\n",
       "      <td>1154</td>\n",
       "      <td>Special Topics</td>\n",
       "    </tr>\n",
       "    <tr>\n",
       "      <th>1</th>\n",
       "      <td>RICK JENISON</td>\n",
       "      <td>f513b3a7-9fdc-30f2-9f50-666870298ead</td>\n",
       "      <td>f513b3a7-9fdc-30f2-9f50-666870298ead</td>\n",
       "      <td>7fb80554-a997-3ee8-bbae-849887b885ca</td>\n",
       "      <td>1084</td>\n",
       "      <td>Research</td>\n",
       "    </tr>\n",
       "    <tr>\n",
       "      <th>2</th>\n",
       "      <td>SUSANNE BARNETT</td>\n",
       "      <td>9dcee3f1-0909-318b-8a3d-72c931959656</td>\n",
       "      <td>9dcee3f1-0909-318b-8a3d-72c931959656</td>\n",
       "      <td>1dfde01c-2e50-31d7-bcc6-3e5c44756f8d</td>\n",
       "      <td>1114</td>\n",
       "      <td>Advanced Independent Study</td>\n",
       "    </tr>\n",
       "    <tr>\n",
       "      <th>3</th>\n",
       "      <td>THOMAS JAHNS</td>\n",
       "      <td>f850ab24-740c-311a-a669-804a3fea7b0b</td>\n",
       "      <td>f850ab24-740c-311a-a669-804a3fea7b0b</td>\n",
       "      <td>2c3a2a38-9f53-3cfb-8f37-cde4cb3d4b4b</td>\n",
       "      <td>1074</td>\n",
       "      <td>Master's Research or Thesis</td>\n",
       "    </tr>\n",
       "  </tbody>\n",
       "</table>\n",
       "</div>"
      ],
      "text/plain": [
       "        instructor                  course_offering_uuid  \\\n",
       "0  MICHAEL CONNORS  128f24cf-b7bf-3a8b-8f04-136c7b6fa556   \n",
       "1     RICK JENISON  f513b3a7-9fdc-30f2-9f50-666870298ead   \n",
       "2  SUSANNE BARNETT  9dcee3f1-0909-318b-8a3d-72c931959656   \n",
       "3     THOMAS JAHNS  f850ab24-740c-311a-a669-804a3fea7b0b   \n",
       "\n",
       "                                   uuid                           course_uuid  \\\n",
       "0  128f24cf-b7bf-3a8b-8f04-136c7b6fa556  1f7cc0a1-e94f-37bd-86e5-717fe755a19f   \n",
       "1  f513b3a7-9fdc-30f2-9f50-666870298ead  7fb80554-a997-3ee8-bbae-849887b885ca   \n",
       "2  9dcee3f1-0909-318b-8a3d-72c931959656  1dfde01c-2e50-31d7-bcc6-3e5c44756f8d   \n",
       "3  f850ab24-740c-311a-a669-804a3fea7b0b  2c3a2a38-9f53-3cfb-8f37-cde4cb3d4b4b   \n",
       "\n",
       "   term_code                         name  \n",
       "0       1154               Special Topics  \n",
       "1       1084                     Research  \n",
       "2       1114   Advanced Independent Study  \n",
       "3       1074  Master's Research or Thesis  "
      ]
     },
     "execution_count": 25,
     "metadata": {},
     "output_type": "execute_result"
    }
   ],
   "source": [
    "step3 = step2.withColumnRenamed('name', 'instructor').join(course_offerings, step2.course_offering_uuid == course_offerings.uuid, 'inner')\n",
    "step3.limit(4).toPandas()"
   ]
  },
  {
   "cell_type": "code",
   "execution_count": 26,
   "id": "565de959",
   "metadata": {},
   "outputs": [],
   "source": [
    "from pyspark.sql.functions import levenshtein"
   ]
  },
  {
   "cell_type": "code",
   "execution_count": 27,
   "id": "f467c885",
   "metadata": {},
   "outputs": [
    {
     "name": "stdout",
     "output_type": "stream",
     "text": [
      "+-----+-------+---------+-------+\n",
      "|Input|Option1|  Option2|Option3|\n",
      "+-----+-------+---------+-------+\n",
      "| Aple|  Apple|Microsoft|    IBM|\n",
      "+-----+-------+---------+-------+\n",
      "\n"
     ]
    }
   ],
   "source": [
    "df0 = spark.createDataFrame([('Aple', 'Apple', 'Microsoft', 'IBM')], ['Input', 'Option1', 'Option2', 'Option3'])\n",
    "df0.show()"
   ]
  },
  {
   "cell_type": "code",
   "execution_count": 28,
   "id": "b7c94df1",
   "metadata": {},
   "outputs": [
    {
     "name": "stdout",
     "output_type": "stream",
     "text": [
      "+-----+\n",
      "|Apple|\n",
      "+-----+\n",
      "|    1|\n",
      "+-----+\n",
      "\n"
     ]
    }
   ],
   "source": [
    "df0.select(levenshtein('Input', 'Option1').alias('Apple')).show()"
   ]
  },
  {
   "cell_type": "code",
   "execution_count": 29,
   "id": "7fe6e264",
   "metadata": {},
   "outputs": [
    {
     "name": "stdout",
     "output_type": "stream",
     "text": [
      "+---------+\n",
      "|Microsoft|\n",
      "+---------+\n",
      "|        9|\n",
      "+---------+\n",
      "\n"
     ]
    }
   ],
   "source": [
    "df0.select(levenshtein('Input', 'Option2').alias('Microsoft')).show()"
   ]
  },
  {
   "cell_type": "code",
   "execution_count": 30,
   "id": "7eb2c20d",
   "metadata": {},
   "outputs": [
    {
     "name": "stdout",
     "output_type": "stream",
     "text": [
      "+---+\n",
      "|IBM|\n",
      "+---+\n",
      "|  4|\n",
      "+---+\n",
      "\n"
     ]
    }
   ],
   "source": [
    "df0.select(levenshtein('Input', 'Option3').alias('IBM')).show()"
   ]
  }
 ],
 "metadata": {
  "kernelspec": {
   "display_name": "Python 3",
   "language": "python",
   "name": "python3"
  },
  "language_info": {
   "codemirror_mode": {
    "name": "ipython",
    "version": 3
   },
   "file_extension": ".py",
   "mimetype": "text/x-python",
   "name": "python",
   "nbconvert_exporter": "python",
   "pygments_lexer": "ipython3",
   "version": "3.8.10"
  }
 },
 "nbformat": 4,
 "nbformat_minor": 5
}
